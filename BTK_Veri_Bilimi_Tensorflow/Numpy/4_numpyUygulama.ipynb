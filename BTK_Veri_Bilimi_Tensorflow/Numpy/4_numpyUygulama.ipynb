{
 "cells": [
  {
   "cell_type": "code",
   "execution_count": 2,
   "id": "67cd4aa9",
   "metadata": {},
   "outputs": [],
   "source": [
    "import numpy as np"
   ]
  },
  {
   "cell_type": "code",
   "execution_count": 3,
   "id": "ea2fb5b4",
   "metadata": {},
   "outputs": [
    {
     "data": {
      "text/plain": [
       "array([10, 15, 30, 45, 60])"
      ]
     },
     "execution_count": 3,
     "metadata": {},
     "output_type": "execute_result"
    }
   ],
   "source": [
    "array = np.array([10, 15, 30, 45, 60])\n",
    "array"
   ]
  },
  {
   "cell_type": "code",
   "execution_count": 5,
   "id": "b0aa0094",
   "metadata": {},
   "outputs": [
    {
     "data": {
      "text/plain": [
       "array([ 5,  6,  7,  8,  9, 10, 11, 12, 13, 14])"
      ]
     },
     "execution_count": 5,
     "metadata": {},
     "output_type": "execute_result"
    }
   ],
   "source": [
    "array1 = np.arange(5,15)\n",
    "array1"
   ]
  },
  {
   "cell_type": "code",
   "execution_count": 6,
   "id": "3994ed62",
   "metadata": {},
   "outputs": [
    {
     "data": {
      "text/plain": [
       "array([50, 55, 60, 65, 70, 75, 80, 85, 90, 95])"
      ]
     },
     "execution_count": 6,
     "metadata": {},
     "output_type": "execute_result"
    }
   ],
   "source": [
    "array2 = np.arange(50,100,5)\n",
    "array2"
   ]
  },
  {
   "cell_type": "code",
   "execution_count": 7,
   "id": "2aaf3838",
   "metadata": {},
   "outputs": [
    {
     "data": {
      "text/plain": [
       "array([0., 0., 0., 0., 0., 0., 0., 0., 0., 0.])"
      ]
     },
     "execution_count": 7,
     "metadata": {},
     "output_type": "execute_result"
    }
   ],
   "source": [
    "array3 = np.zeros(10)\n",
    "array3"
   ]
  },
  {
   "cell_type": "code",
   "execution_count": 8,
   "id": "9469d889",
   "metadata": {},
   "outputs": [
    {
     "data": {
      "text/plain": [
       "array([1., 1., 1., 1., 1., 1., 1., 1., 1., 1.])"
      ]
     },
     "execution_count": 8,
     "metadata": {},
     "output_type": "execute_result"
    }
   ],
   "source": [
    "array4 = np.ones(10)\n",
    "array4"
   ]
  },
  {
   "cell_type": "code",
   "execution_count": 9,
   "id": "e50f7ec4",
   "metadata": {},
   "outputs": [
    {
     "data": {
      "text/plain": [
       "array([  0.,  25.,  50.,  75., 100.])"
      ]
     },
     "execution_count": 9,
     "metadata": {},
     "output_type": "execute_result"
    }
   ],
   "source": [
    "array5 = np.linspace(0,100,5)\n",
    "array5"
   ]
  },
  {
   "cell_type": "code",
   "execution_count": 10,
   "id": "c57122bd",
   "metadata": {},
   "outputs": [
    {
     "data": {
      "text/plain": [
       "array([22, 25, 17, 10, 14])"
      ]
     },
     "execution_count": 10,
     "metadata": {},
     "output_type": "execute_result"
    }
   ],
   "source": [
    "array6 = np.random.randint(10,30,5)\n",
    "array6"
   ]
  },
  {
   "cell_type": "code",
   "execution_count": null,
   "id": "84c901ec",
   "metadata": {},
   "outputs": [
    {
     "data": {
      "text/plain": [
       "array([ 0.97167574, -1.20597009,  1.21745851,  0.96884781,  1.64662459,\n",
       "        0.98393229,  0.40009869,  0.54140021,  0.58720585,  0.82919722])"
      ]
     },
     "execution_count": 17,
     "metadata": {},
     "output_type": "execute_result"
    }
   ],
   "source": [
    "array7 = np.random.randn(10) # -1 ile 1 arasinda 10 sayi\n",
    "array7"
   ]
  },
  {
   "cell_type": "code",
   "execution_count": 18,
   "id": "bb9b1d6e",
   "metadata": {},
   "outputs": [
    {
     "data": {
      "text/plain": [
       "array([[15, 38, 35, 47, 43],\n",
       "       [10, 43, 27, 25, 34],\n",
       "       [12, 46, 25, 40, 31]])"
      ]
     },
     "execution_count": 18,
     "metadata": {},
     "output_type": "execute_result"
    }
   ],
   "source": [
    "array8 = np.random.randint(10,50,15).reshape(3, 5)\n",
    "array8"
   ]
  },
  {
   "cell_type": "code",
   "execution_count": 21,
   "id": "1bdd472c",
   "metadata": {},
   "outputs": [
    {
     "name": "stdout",
     "output_type": "stream",
     "text": [
      "Matris:\n",
      " [[42 23 30 15 35]\n",
      " [11 48 11 45 49]\n",
      " [42 43 22 19 19]]\n",
      "Satir Toplamlari:\n",
      " [145 164 145]\n",
      "Sutun Toplamlari:\n",
      " [ 95 114  63  79 103]\n"
     ]
    }
   ],
   "source": [
    "matris = np.random.randint(10,50,15).reshape(3, 5)\n",
    "while True:\n",
    "    satirToplam = matris.sum(axis=1) # satirlarin toplami\n",
    "    sutunToplam = matris.sum(axis=0) # sutunlarin toplami\n",
    "    print(\"Matris:\\n\", matris)\n",
    "    print(\"Satir Toplamlari:\\n\", satirToplam)\n",
    "    print(\"Sutun Toplamlari:\\n\", sutunToplam)\n",
    "    break"
   ]
  },
  {
   "cell_type": "code",
   "execution_count": 26,
   "id": "eb3d0792",
   "metadata": {},
   "outputs": [
    {
     "name": "stdout",
     "output_type": "stream",
     "text": [
      "matris max : 49\n",
      "matris min : 11\n",
      "matris mean : 30.266666666666666\n",
      "matris std : 13.398839087357118\n"
     ]
    }
   ],
   "source": [
    "print(\n",
    "\tf\"matris max : {matris.max()}\\n\"\n",
    "\tf\"matris min : {matris.min()}\\n\"\n",
    "\tf\"matris mean : {matris.mean()}\\n\"\n",
    "\tf\"matris std : {matris.std()}\"\n",
    ")"
   ]
  },
  {
   "cell_type": "code",
   "execution_count": null,
   "id": "b9816f68",
   "metadata": {},
   "outputs": [
    {
     "data": {
      "text/plain": [
       "5"
      ]
     },
     "execution_count": 29,
     "metadata": {},
     "output_type": "execute_result"
    }
   ],
   "source": [
    "matris.argmax() # en buyuk degerin indexi\n",
    "matris.argmin() # en kucuk degerin indexi"
   ]
  },
  {
   "cell_type": "code",
   "execution_count": 30,
   "id": "941dd528",
   "metadata": {},
   "outputs": [
    {
     "data": {
      "text/plain": [
       "array([10, 11, 12])"
      ]
     },
     "execution_count": 30,
     "metadata": {},
     "output_type": "execute_result"
    }
   ],
   "source": [
    "arr =np.arange(10,20)\n",
    "arr[:3]"
   ]
  },
  {
   "cell_type": "code",
   "execution_count": null,
   "id": "88dec77a",
   "metadata": {},
   "outputs": [
    {
     "data": {
      "text/plain": [
       "array([19, 18, 17, 16, 15, 14, 13, 12, 11, 10])"
      ]
     },
     "execution_count": 34,
     "metadata": {},
     "output_type": "execute_result"
    }
   ],
   "source": [
    "arr[::-1] # ters cevirme islemi"
   ]
  },
  {
   "cell_type": "code",
   "execution_count": 39,
   "id": "324ad430",
   "metadata": {},
   "outputs": [
    {
     "data": {
      "text/plain": [
       "array([42, 11, 42])"
      ]
     },
     "execution_count": 39,
     "metadata": {},
     "output_type": "execute_result"
    }
   ],
   "source": [
    "matris[0,:] # ilk satiri al\n",
    "matris[:,0] # ilk sutunu al"
   ]
  },
  {
   "cell_type": "code",
   "execution_count": 40,
   "id": "68569fda",
   "metadata": {},
   "outputs": [
    {
     "data": {
      "text/plain": [
       "array([42, 23, 30, 15, 35])"
      ]
     },
     "execution_count": 40,
     "metadata": {},
     "output_type": "execute_result"
    }
   ],
   "source": [
    "matris[0]"
   ]
  },
  {
   "cell_type": "code",
   "execution_count": 41,
   "id": "ef4b48d2",
   "metadata": {},
   "outputs": [
    {
     "data": {
      "text/plain": [
       "11"
      ]
     },
     "execution_count": 41,
     "metadata": {},
     "output_type": "execute_result"
    }
   ],
   "source": [
    "matris[1,2]"
   ]
  },
  {
   "cell_type": "code",
   "execution_count": 42,
   "id": "bc3c8b0c",
   "metadata": {},
   "outputs": [
    {
     "data": {
      "text/plain": [
       "array([[1764,  529,  900,  225, 1225],\n",
       "       [ 121, 2304,  121, 2025, 2401],\n",
       "       [1764, 1849,  484,  361,  361]])"
      ]
     },
     "execution_count": 42,
     "metadata": {},
     "output_type": "execute_result"
    }
   ],
   "source": [
    "matris**2"
   ]
  },
  {
   "cell_type": "code",
   "execution_count": 43,
   "id": "af096e4e",
   "metadata": {},
   "outputs": [
    {
     "name": "stdout",
     "output_type": "stream",
     "text": [
      "[[42 23 30 15 35]\n",
      " [11 48 11 45 49]\n",
      " [42 43 22 19 19]]\n",
      "[[ True False  True False False]\n",
      " [False  True False False False]\n",
      " [ True False  True False False]]\n",
      "Çift sayılar : [42 30 48 42 22]\n"
     ]
    }
   ],
   "source": [
    "result =matris % 2 == 0\n",
    "print(matris)\n",
    "print(result)\n",
    "print('Çift sayılar :',matris[result])"
   ]
  }
 ],
 "metadata": {
  "kernelspec": {
   "display_name": "BTK",
   "language": "python",
   "name": "python3"
  },
  "language_info": {
   "codemirror_mode": {
    "name": "ipython",
    "version": 3
   },
   "file_extension": ".py",
   "mimetype": "text/x-python",
   "name": "python",
   "nbconvert_exporter": "python",
   "pygments_lexer": "ipython3",
   "version": "3.10.13"
  }
 },
 "nbformat": 4,
 "nbformat_minor": 5
}
