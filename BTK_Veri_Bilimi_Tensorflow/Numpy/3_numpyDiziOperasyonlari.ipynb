{
 "cells": [
  {
   "cell_type": "code",
   "execution_count": 1,
   "id": "dcd5ed93",
   "metadata": {},
   "outputs": [],
   "source": [
    "import numpy as np"
   ]
  },
  {
   "cell_type": "code",
   "execution_count": 3,
   "id": "ca26d49f",
   "metadata": {},
   "outputs": [],
   "source": [
    "numbers1 =np.random.randint(10,100,6)\n",
    "numbers2 =np.random.randint(10,100,6)"
   ]
  },
  {
   "cell_type": "code",
   "execution_count": 8,
   "id": "e5eefc0b",
   "metadata": {},
   "outputs": [
    {
     "name": "stdout",
     "output_type": "stream",
     "text": [
      "sin : [-0.95375265 -0.42818267  0.29636858 -0.8462204  -0.76825466  0.86006941]\n",
      "cos : [-0.56245385 -0.98733928 -0.6800235  -0.95765948  0.02212676 -0.66693806]\n",
      "tan : [-3.17290855  0.47381472  0.31030966  1.58815308  1.20012724  1.68582537]\n",
      "log : [3.8918203  3.55534806 3.63758616 3.13549422 3.87120101 4.48863637]\n",
      "log10 : [1.81291336 1.61278386 1.92427929 1.20411998 1.74036269 1.60205999]\n",
      "exp : [1.90734657e+21 1.58601345e+15 3.18559318e+16 9.74480345e+09\n",
      " 7.01673591e+20 4.48961282e+38]\n",
      "sqrt : [8.06225775 6.40312424 9.16515139 4.         7.41619849 6.32455532]\n",
      "max : 89\n",
      "min : 16\n",
      "mean : 47.0\n",
      "median : 48.0\n",
      "std : 20.69621543503385\n",
      "var : 457.1388888888889\n",
      "sum : 282\n"
     ]
    }
   ],
   "source": [
    "while True:\n",
    "    print('sin :',np.sin(numbers1))\n",
    "    print('cos :',np.cos(numbers2))\n",
    "    print('tan :',np.tan(numbers1))\n",
    "    print('log :',np.log(numbers1))\n",
    "    print('log10 :',np.log10(numbers2))\n",
    "    print('exp :',np.exp(numbers1))\n",
    "    print('sqrt :',np.sqrt(numbers2))\n",
    "    print('max :',np.max(numbers1))\n",
    "    print('min :',np.min(numbers2))\n",
    "    print('mean :',np.mean(numbers1))\n",
    "    print('median :',np.median(numbers2))\n",
    "    print('std :',np.std(numbers1))\n",
    "    print('var :',np.var(numbers2))\n",
    "    print('sum :',np.sum(numbers1))\n",
    "    break"
   ]
  },
  {
   "cell_type": "code",
   "execution_count": 11,
   "id": "94a94c03",
   "metadata": {},
   "outputs": [
    {
     "name": "stdout",
     "output_type": "stream",
     "text": [
      "mnumbers1 :\n",
      " [[49 35 38]\n",
      " [23 48 89]]\n",
      "mnumbers2 :\n",
      " [[65 41 84]\n",
      " [16 55 40]]\n",
      "mnumbers1 + mnumbers2 :\n",
      " [[114  76 122]\n",
      " [ 39 103 129]]\n",
      "mnumbers1 - mnumbers2 :\n",
      " [[-16  -6 -46]\n",
      " [  7  -7  49]]\n",
      "mnumbers1 * mnumbers2 :\n",
      " [[3185 1435 3192]\n",
      " [ 368 2640 3560]]\n",
      "mnumbers1 / mnumbers2 :\n",
      " [[0.75384615 0.85365854 0.45238095]\n",
      " [1.4375     0.87272727 2.225     ]]\n",
      "mnumbers1 ** 2 :\n",
      " [[2401 1225 1444]\n",
      " [ 529 2304 7921]]\n"
     ]
    }
   ],
   "source": [
    "mnumbers1 =numbers1.reshape(2,3)\n",
    "mnumbers2 =numbers2.reshape(2,3)\n",
    "while True:\n",
    "    print('mnumbers1 :\\n',mnumbers1)\n",
    "    print('mnumbers2 :\\n',mnumbers2)\n",
    "    print('mnumbers1 + mnumbers2 :\\n',mnumbers1 + mnumbers2)\n",
    "    print('mnumbers1 - mnumbers2 :\\n',mnumbers1 - mnumbers2)\n",
    "    print('mnumbers1 * mnumbers2 :\\n',mnumbers1 * mnumbers2)\n",
    "    print('mnumbers1 / mnumbers2 :\\n',mnumbers1 / mnumbers2)\n",
    "    print('mnumbers1 ** 2 :\\n',mnumbers1 ** 2)\n",
    "    break"
   ]
  },
  {
   "cell_type": "code",
   "execution_count": null,
   "id": "924b804d",
   "metadata": {},
   "outputs": [
    {
     "data": {
      "text/plain": [
       "array([[49, 35, 38],\n",
       "       [23, 48, 89],\n",
       "       [65, 41, 84],\n",
       "       [16, 55, 40]])"
      ]
     },
     "execution_count": 14,
     "metadata": {},
     "output_type": "execute_result"
    }
   ],
   "source": [
    "np.vstack((mnumbers1, mnumbers2)) # Dikey birleştirme"
   ]
  },
  {
   "cell_type": "code",
   "execution_count": null,
   "id": "c3760eb7",
   "metadata": {},
   "outputs": [
    {
     "data": {
      "text/plain": [
       "array([[49, 35, 38, 65, 41, 84],\n",
       "       [23, 48, 89, 16, 55, 40]])"
      ]
     },
     "execution_count": 15,
     "metadata": {},
     "output_type": "execute_result"
    }
   ],
   "source": [
    "np.hstack((mnumbers1, mnumbers2)) # Yatay birleştirme"
   ]
  },
  {
   "cell_type": "code",
   "execution_count": 17,
   "id": "8da82e6a",
   "metadata": {},
   "outputs": [
    {
     "data": {
      "text/plain": [
       "array([49, 35, 38, 23, 48, 89])"
      ]
     },
     "execution_count": 17,
     "metadata": {},
     "output_type": "execute_result"
    }
   ],
   "source": [
    "numbers1"
   ]
  },
  {
   "cell_type": "code",
   "execution_count": 18,
   "id": "8abefea8",
   "metadata": {},
   "outputs": [
    {
     "data": {
      "text/plain": [
       "array([False, False, False, False, False,  True])"
      ]
     },
     "execution_count": 18,
     "metadata": {},
     "output_type": "execute_result"
    }
   ],
   "source": [
    "numbers1 > 50"
   ]
  },
  {
   "cell_type": "code",
   "execution_count": 22,
   "id": "c5785df7",
   "metadata": {},
   "outputs": [
    {
     "name": "stdout",
     "output_type": "stream",
     "text": [
      "[49 35 38 23 48 89]\n",
      "[False False  True False  True False]\n",
      "Çift sayılar : [38 48]\n"
     ]
    }
   ],
   "source": [
    "while True:\n",
    "    result =numbers1 % 2 == 0\n",
    "    print(numbers1)\n",
    "    print(result)\n",
    "    print('Çift sayılar :',numbers1[result])\n",
    "    break"
   ]
  }
 ],
 "metadata": {
  "kernelspec": {
   "display_name": "BTK",
   "language": "python",
   "name": "python3"
  },
  "language_info": {
   "codemirror_mode": {
    "name": "ipython",
    "version": 3
   },
   "file_extension": ".py",
   "mimetype": "text/x-python",
   "name": "python",
   "nbconvert_exporter": "python",
   "pygments_lexer": "ipython3",
   "version": "3.10.13"
  }
 },
 "nbformat": 4,
 "nbformat_minor": 5
}
