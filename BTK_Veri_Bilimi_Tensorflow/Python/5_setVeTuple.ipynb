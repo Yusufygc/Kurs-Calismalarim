{
 "cells": [
  {
   "cell_type": "markdown",
   "metadata": {},
   "source": [
    "### Python Set (Küme) Metotları ve Açıklamaları\n",
    "\n",
    "Aşağıda Python'da **set** (`set`) tipine ait en sık kullanılan metodlar ve yaptıkları işler verilmiştir. Her satırda metodun adı, yaptığı iş, örnek kullanım ve dönüş değeri (çıktı) bulunmaktadır.\n",
    "\n",
    "| Metot | Açıklama | Örnek Kullanım | Dönüş Değeri / Çıktı |\n",
    "|--------|------------------------------|------------------------|----------------------|\n",
    "| **`add(x)`** | Kümenin içine `x` elemanını ekler. | `s = {1, 2}; s.add(3)` | `{1, 2, 3}` |\n",
    "| **`remove(x)`** | Kümeden `x` elemanını siler, eleman yoksa hata verir. | `s = {1, 2, 3}; s.remove(2)` | `{1, 3}` |\n",
    "| **`discard(x)`** | Kümeden `x` elemanını siler, ancak eleman yoksa hata vermez. | `s = {1, 2, 3}; s.discard(2)` | `{1, 3}` |\n",
    "| **`pop()`** | Kümeden rastgele bir elemanı kaldırır ve döndürür. | `s = {1, 2, 3}; s.pop()` | `1` veya `2` veya `3` |\n",
    "| **`clear()`** | Kümenin tüm elemanlarını siler. | `s = {1, 2, 3}; s.clear()` | `set()` |\n",
    "| **`copy()`** | Kümenin bir kopyasını döndürür. | `s = {1, 2, 3}; s_copy = s.copy()` | `{1, 2, 3}` |\n",
    "| **`union(other_set)`** | İki kümenin birleşimini döndürür. | `{1, 2}.union({2, 3})` | `{1, 2, 3}` |\n",
    "| **`update(other_set)`** | Kümenin içine diğer kümenin elemanlarını ekler. | `s = {1, 2}; s.update({2, 3})` | `{1, 2, 3}` |\n",
    "| **`intersection(other_set)`** | İki kümenin kesişimini döndürür. | `{1, 2}.intersection({2, 3})` | `{2}` |\n",
    "| **`intersection_update(other_set)`** | Kümenin içeriğini kesişim olarak günceller. | `s = {1, 2}; s.intersection_update({2, 3})` | `{2}` |\n",
    "| **`difference(other_set)`** | Kümenin farkını döndürür. | `{1, 2, 3}.difference({2, 3})` | `{1}` |\n",
    "| **`difference_update(other_set)`** | Kümenin içeriğini fark olarak günceller. | `s = {1, 2, 3}; s.difference_update({2, 3})` | `{1}` |\n",
    "| **`symmetric_difference(other_set)`** | İki kümenin simetrik farkını döndürür. | `{1, 2, 3}.symmetric_difference({2, 3, 4})` | `{1, 4}` |\n",
    "| **`symmetric_difference_update(other_set)`** | Kümenin içeriğini simetrik fark olarak günceller. | `s = {1, 2, 3}; s.symmetric_difference_update({2, 3, 4})` | `{1, 4}` |\n",
    "| **`issubset(other_set)`** | Kümenin diğer kümenin alt kümesi olup olmadığını kontrol eder. | `{1, 2}.issubset({1, 2, 3})` | `True` |\n",
    "| **`issuperset(other_set)`** | Kümenin diğer kümeyi kapsayıp kapsamadığını kontrol eder. | `{1, 2, 3}.issuperset({1, 2})` | `True` |\n",
    "| **`isdisjoint(other_set)`** | İki kümenin kesişimi olup olmadığını kontrol eder. | `{1, 2}.isdisjoint({3, 4})` | `True` |\n",
    "\n",
    "Bu metotlar, Python'da **küme işlemlerini** kolayca gerçekleştirmenizi sağlar. **Unutmayın:** Küme (`set`) veri tipi **elemanların sırasını garanti etmez** ve **tekrar eden elemanları otomatik olarak kaldırır**."
   ]
  },
  {
   "cell_type": "markdown",
   "metadata": {},
   "source": [
    "### SETLER İÇİNDEKİ AYNI ELEMANLARI TEK TEK GÖSTERMEZ BİR ELEMAN OLARAK GÖSTERİR"
   ]
  },
  {
   "cell_type": "code",
   "execution_count": 1,
   "metadata": {},
   "outputs": [
    {
     "data": {
      "text/plain": [
       "[1, 2, 3, 2, 2, 3, 1, 5, 4, 4]"
      ]
     },
     "execution_count": 1,
     "metadata": {},
     "output_type": "execute_result"
    }
   ],
   "source": [
    "liste = [1,2,3,2,2,3,1,5,4,4]\n",
    "liste"
   ]
  },
  {
   "cell_type": "code",
   "execution_count": 2,
   "metadata": {},
   "outputs": [
    {
     "data": {
      "text/plain": [
       "set"
      ]
     },
     "execution_count": 2,
     "metadata": {},
     "output_type": "execute_result"
    }
   ],
   "source": [
    "listeAmaSet = set(liste)\n",
    "type(listeAmaSet)"
   ]
  },
  {
   "cell_type": "code",
   "execution_count": 3,
   "metadata": {},
   "outputs": [
    {
     "data": {
      "text/plain": [
       "{1, 2, 3, 4, 5}"
      ]
     },
     "execution_count": 3,
     "metadata": {},
     "output_type": "execute_result"
    }
   ],
   "source": [
    "listeAmaSet # görüldüğü gibi setlerde aynı elemanlar bir kez geçer"
   ]
  },
  {
   "cell_type": "code",
   "execution_count": 4,
   "metadata": {},
   "outputs": [
    {
     "data": {
      "text/plain": [
       "{'a', 'b', 'c'}"
      ]
     },
     "execution_count": 4,
     "metadata": {},
     "output_type": "execute_result"
    }
   ],
   "source": [
    "sifirdanSet = {\"a\",\"b\",\"c\",\"a\",\"c\"}\n",
    "sifirdanSet # görüldüğü gibi aynı elemanlar bir kez geçer"
   ]
  },
  {
   "cell_type": "markdown",
   "metadata": {},
   "source": [
    "Boş set tanımlamak yanlış şeylere yol açabilir çünkü süslü parantez sözlük oluşturmak içinde kullanılıyor."
   ]
  },
  {
   "cell_type": "code",
   "execution_count": 5,
   "metadata": {},
   "outputs": [
    {
     "data": {
      "text/plain": [
       "dict"
      ]
     },
     "execution_count": 5,
     "metadata": {},
     "output_type": "execute_result"
    }
   ],
   "source": [
    "bosSet = {}\n",
    "type(bosSet) "
   ]
  },
  {
   "cell_type": "markdown",
   "metadata": {},
   "source": [
    "Boş set şu şekilde tanımlanır set()"
   ]
  },
  {
   "cell_type": "code",
   "execution_count": 6,
   "metadata": {},
   "outputs": [
    {
     "data": {
      "text/plain": [
       "set"
      ]
     },
     "execution_count": 6,
     "metadata": {},
     "output_type": "execute_result"
    }
   ],
   "source": [
    "bosSet = set()\n",
    "type(bosSet)"
   ]
  },
  {
   "cell_type": "markdown",
   "metadata": {},
   "source": [
    "# TUPLE"
   ]
  },
  {
   "cell_type": "markdown",
   "metadata": {},
   "source": [
    "### Tuplelar değiştirilemeyen listelerdir diyebiliriz"
   ]
  },
  {
   "cell_type": "code",
   "execution_count": 2,
   "metadata": {},
   "outputs": [
    {
     "data": {
      "text/plain": [
       "(1, 'b', 'c', 3.85)"
      ]
     },
     "execution_count": 2,
     "metadata": {},
     "output_type": "execute_result"
    }
   ],
   "source": [
    "tupleListe = (1,\"b\",\"c\",3.85)\n",
    "tupleListe "
   ]
  },
  {
   "cell_type": "code",
   "execution_count": 3,
   "metadata": {},
   "outputs": [
    {
     "data": {
      "text/plain": [
       "1"
      ]
     },
     "execution_count": 3,
     "metadata": {},
     "output_type": "execute_result"
    }
   ],
   "source": [
    "tupleListe[0]"
   ]
  },
  {
   "cell_type": "code",
   "execution_count": 4,
   "metadata": {},
   "outputs": [
    {
     "ename": "TypeError",
     "evalue": "'tuple' object does not support item assignment",
     "output_type": "error",
     "traceback": [
      "\u001b[1;31m---------------------------------------------------------------------------\u001b[0m",
      "\u001b[1;31mTypeError\u001b[0m                                 Traceback (most recent call last)",
      "Cell \u001b[1;32mIn[4], line 1\u001b[0m\n\u001b[1;32m----> 1\u001b[0m \u001b[43mtupleListe\u001b[49m\u001b[43m[\u001b[49m\u001b[38;5;241;43m0\u001b[39;49m\u001b[43m]\u001b[49m \u001b[38;5;241m=\u001b[39m \u001b[38;5;241m2\u001b[39m \u001b[38;5;66;03m# tuplelar değiştirilemez\u001b[39;00m\n",
      "\u001b[1;31mTypeError\u001b[0m: 'tuple' object does not support item assignment"
     ]
    }
   ],
   "source": [
    "tupleListe[0] = 2 # tuplelar değiştirilemez"
   ]
  },
  {
   "cell_type": "code",
   "execution_count": 5,
   "metadata": {},
   "outputs": [
    {
     "data": {
      "text/plain": [
       "1"
      ]
     },
     "execution_count": 5,
     "metadata": {},
     "output_type": "execute_result"
    }
   ],
   "source": [
    "tupleListe.count(1) # tuple içinde kaç tane 1 var"
   ]
  },
  {
   "cell_type": "code",
   "execution_count": 7,
   "metadata": {},
   "outputs": [
    {
     "data": {
      "text/plain": [
       "3"
      ]
     },
     "execution_count": 7,
     "metadata": {},
     "output_type": "execute_result"
    }
   ],
   "source": [
    "tupleListe.index(3.85) # b'nin indexi"
   ]
  }
 ],
 "metadata": {
  "kernelspec": {
   "display_name": "Python 3",
   "language": "python",
   "name": "python3"
  },
  "language_info": {
   "codemirror_mode": {
    "name": "ipython",
    "version": 3
   },
   "file_extension": ".py",
   "mimetype": "text/x-python",
   "name": "python",
   "nbconvert_exporter": "python",
   "pygments_lexer": "ipython3",
   "version": "3.9.12"
  }
 },
 "nbformat": 4,
 "nbformat_minor": 2
}
