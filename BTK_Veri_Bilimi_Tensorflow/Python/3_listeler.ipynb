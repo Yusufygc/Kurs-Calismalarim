{
 "cells": [
  {
   "cell_type": "markdown",
   "metadata": {},
   "source": [
    "### Python List Metotları ve Açıklamaları\n",
    "\n",
    "Aşağıda Python'da **list** (`list`) tipine ait en sık kullanılan metodlar ve yaptıkları işler verilmiştir. Her satırda metodun adı, yaptığı iş, örnek kullanım ve dönüş değeri (çıktı) bulunmaktadır.\n",
    "\n",
    "| Metot | Açıklama | Örnek Kullanım | Dönüş Değeri / Çıktı |\n",
    "|--------|------------------------------|------------------------|----------------------|\n",
    "| **`append(x)`** | Listenin sonuna `x` elemanını ekler. | `lst = [1, 2]; lst.append(3)` | `[1, 2, 3]` |\n",
    "| **`extend(iterable)`** | Listeye başka bir iterable'ın elemanlarını ekler. | `lst = [1, 2]; lst.extend([3, 4])` | `[1, 2, 3, 4]` |\n",
    "| **`insert(i, x)`** | Belirtilen `i` indeksine `x` elemanını ekler. | `lst = [1, 3]; lst.insert(1, 2)` | `[1, 2, 3]` |\n",
    "| **`remove(x)`** | Listedeki ilk `x` değerini siler. | `lst = [1, 2, 3]; lst.remove(2)` | `[1, 3]` |\n",
    "| **`pop(i)`** | `i` indeksindeki elemanı listeden çıkarır ve döndürür. | `lst = [1, 2, 3]; lst.pop(1)` | `2`, `[1, 3]` |\n",
    "| **`index(x)`** | `x` değerinin ilk bulunduğu indeksi döndürür. | `[1, 2, 3].index(2)` | `1` |\n",
    "| **`count(x)`** | Listede `x` değerinin kaç kez geçtiğini döndürür. | `[1, 2, 2, 3].count(2)` | `2` |\n",
    "| **`sort()`** | Listeyi küçükten büyüğe sıralar. | `lst = [3, 1, 2]; lst.sort()` | `[1, 2, 3]` |\n",
    "| **`sort(reverse=True)`** | Listeyi büyükten küçüğe sıralar. | `lst = [3, 1, 2]; lst.sort(reverse=True)` | `[3, 2, 1]` |\n",
    "| **`sorted(lst)`** | Listeyi sıralayarak yeni bir liste döndürür. | `sorted([3, 1, 2])` | `[1, 2, 3]` |\n",
    "| **`reverse()`** | Listeyi ters çevirir. | `lst = [1, 2, 3]; lst.reverse()` | `[3, 2, 1]` |\n",
    "| **`copy()`** | Listenin bir kopyasını döndürür. | `lst = [1, 2, 3]; lst_copy = lst.copy()` | `[1, 2, 3]` |\n",
    "| **`clear()`** | Listedeki tüm elemanları siler. | `lst = [1, 2, 3]; lst.clear()` | `[]` |\n",
    "\n",
    "Bu metodları kullanarak Python'da liste işlemlerini kolayca gerçekleştirebilirsiniz. **Unutmayın:** Bazı metotlar (`sort()`, `reverse()`, `append()`, vb.) **orijinal listeyi değiştirir**, bazıları (`sorted()`, `copy()`, vb.) **yeni bir liste döndürür**.\n",
    "\n"
   ]
  },
  {
   "cell_type": "code",
   "execution_count": 2,
   "metadata": {},
   "outputs": [
    {
     "data": {
      "text/plain": [
       "list"
      ]
     },
     "execution_count": 2,
     "metadata": {},
     "output_type": "execute_result"
    }
   ],
   "source": [
    "karisikListe =[1,2,3.5,\"yusuf\"]\n",
    "type(karisikListe)"
   ]
  },
  {
   "cell_type": "code",
   "execution_count": 3,
   "metadata": {},
   "outputs": [
    {
     "data": {
      "text/plain": [
       "int"
      ]
     },
     "execution_count": 3,
     "metadata": {},
     "output_type": "execute_result"
    }
   ],
   "source": [
    "sonucum = karisikListe[0]\n",
    "type(sonucum)"
   ]
  },
  {
   "cell_type": "code",
   "execution_count": 4,
   "metadata": {},
   "outputs": [
    {
     "data": {
      "text/plain": [
       "float"
      ]
     },
     "execution_count": 4,
     "metadata": {},
     "output_type": "execute_result"
    }
   ],
   "source": [
    "sonucum = karisikListe[2]\n",
    "type(sonucum)"
   ]
  },
  {
   "cell_type": "code",
   "execution_count": 5,
   "metadata": {},
   "outputs": [
    {
     "data": {
      "text/plain": [
       "str"
      ]
     },
     "execution_count": 5,
     "metadata": {},
     "output_type": "execute_result"
    }
   ],
   "source": [
    "sonucum = karisikListe[3]\n",
    "type(sonucum)"
   ]
  },
  {
   "cell_type": "markdown",
   "metadata": {},
   "source": [
    "### NESTED LİST"
   ]
  },
  {
   "cell_type": "code",
   "execution_count": 6,
   "metadata": {},
   "outputs": [
    {
     "data": {
      "text/plain": [
       "[1, 2, 3]"
      ]
     },
     "execution_count": 6,
     "metadata": {},
     "output_type": "execute_result"
    }
   ],
   "source": [
    "nestedListe = [[1,2,3],[4,5,6],[7,8,9]] # 3x3'lük bir matris\n",
    "nestedListe[0]"
   ]
  },
  {
   "cell_type": "code",
   "execution_count": 7,
   "metadata": {},
   "outputs": [
    {
     "data": {
      "text/plain": [
       "[4, 5, 6]"
      ]
     },
     "execution_count": 7,
     "metadata": {},
     "output_type": "execute_result"
    }
   ],
   "source": [
    "nestedListe[1]"
   ]
  },
  {
   "cell_type": "code",
   "execution_count": 9,
   "metadata": {},
   "outputs": [
    {
     "data": {
      "text/plain": [
       "2"
      ]
     },
     "execution_count": 9,
     "metadata": {},
     "output_type": "execute_result"
    }
   ],
   "source": [
    "nestedListe[0][1]#[1, 2, 3] listesinin 2. elemanı 1.listenin 2.elemanı"
   ]
  },
  {
   "cell_type": "code",
   "execution_count": 10,
   "metadata": {},
   "outputs": [
    {
     "name": "stdout",
     "output_type": "stream",
     "text": [
      "9\n"
     ]
    }
   ],
   "source": [
    "istenenSayi= nestedListe[2][2]\n",
    "print(istenenSayi)"
   ]
  }
 ],
 "metadata": {
  "kernelspec": {
   "display_name": "Python 3",
   "language": "python",
   "name": "python3"
  },
  "language_info": {
   "codemirror_mode": {
    "name": "ipython",
    "version": 3
   },
   "file_extension": ".py",
   "mimetype": "text/x-python",
   "name": "python",
   "nbconvert_exporter": "python",
   "pygments_lexer": "ipython3",
   "version": "3.9.12"
  }
 },
 "nbformat": 4,
 "nbformat_minor": 2
}
