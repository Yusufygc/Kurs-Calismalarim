{
 "cells": [
  {
   "cell_type": "markdown",
   "metadata": {},
   "source": [
    "### Python Dictionary (Sözlük) Metotları ve Açıklamaları\n",
    "\n",
    "Aşağıda Python'da **dictionary** (`dict`) tipine ait en sık kullanılan metodlar ve yaptıkları işler verilmiştir. Her satırda metodun adı, yaptığı iş, örnek kullanım ve dönüş değeri (çıktı) bulunmaktadır.\n",
    "\n",
    "| Metot | Açıklama | Örnek Kullanım | Dönüş Değeri / Çıktı |\n",
    "|--------|------------------------------|------------------------|----------------------|\n",
    "| **`get(key, default)`** | Belirtilen `key` değerini döndürür, yoksa `default` değeri döner. | `d = {\"a\": 1}; d.get(\"a\")` | `1` |\n",
    "| **`keys()`** | Sözlükteki tüm anahtarları (`keys`) döndürür. | `d = {\"a\": 1, \"b\": 2}; d.keys()` | `dict_keys([\"a\", \"b\"])` |\n",
    "| **`values()`** | Sözlükteki tüm değerleri (`values`) döndürür. | `d = {\"a\": 1, \"b\": 2}; d.values()` | `dict_values([1, 2])` |\n",
    "| **`items()`** | Anahtar-değer çiftlerini `tuple` olarak döndürür. | `d = {\"a\": 1, \"b\": 2}; d.items()` | `dict_items([(\"a\", 1), (\"b\", 2)])` |\n",
    "| **`pop(key, default)`** | Belirtilen `key` anahtarını ve değerini sözlükten çıkarır. | `d = {\"a\": 1}; d.pop(\"a\")` | `1`, `{}` |\n",
    "| **`popitem()`** | Sözlükten son eklenen anahtar-değer çiftini kaldırır ve döndürür. | `d = {\"a\": 1, \"b\": 2}; d.popitem()` | `(\"b\", 2)` |\n",
    "| **`update(other_dict)`** | Başka bir sözlük veya anahtar-değer çiftleri ile günceller. | `d = {\"a\": 1}; d.update({\"b\": 2})` | `{\"a\": 1, \"b\": 2}` |\n",
    "| **`setdefault(key, default)`** | Eğer `key` varsa değerini döndürür, yoksa `default` değerini ekleyip döndürür. | `d = {\"a\": 1}; d.setdefault(\"b\", 2)` | `2`, `{\"a\": 1, \"b\": 2}` |\n",
    "| **`clear()`** | Sözlüğü tamamen temizler. | `d = {\"a\": 1}; d.clear()` | `{}` |\n",
    "| **`copy()`** | Sözlüğün bir kopyasını döndürür. | `d = {\"a\": 1}; d_copy = d.copy()` | `{ \"a\": 1 }` |\n",
    "| **`fromkeys(keys, value)`** | Belirtilen `keys` listesinden bir sözlük oluşturur. | `dict.fromkeys([\"a\", \"b\"], 0)` | `{ \"a\": 0, \"b\": 0 }` |\n",
    "\n",
    "Bu metodları kullanarak Python'da sözlük işlemlerini kolayca gerçekleştirebilirsiniz. **Unutmayın:** Bazı metotlar (`update()`, `pop()`, vb.) **orijinal sözlüğü değiştirirken**, bazıları (`copy()`, `fromkeys()`, vb.) **yeni bir sözlük döndürür**.\n",
    "\n"
   ]
  },
  {
   "cell_type": "markdown",
   "metadata": {},
   "source": [
    "### KEY-VALUE PAIRING (ANAHTAR-DEĞER EŞLEŞMESİ)"
   ]
  },
  {
   "cell_type": "code",
   "execution_count": 2,
   "metadata": {},
   "outputs": [
    {
     "name": "stdout",
     "output_type": "stream",
     "text": [
      "{'anahtar1': 'deger'} <class 'dict'>\n"
     ]
    }
   ],
   "source": [
    "sozluk = {\"anahtar1\": \"deger\"}\n",
    "print(sozluk, type(sozluk))"
   ]
  },
  {
   "cell_type": "code",
   "execution_count": 4,
   "metadata": {},
   "outputs": [
    {
     "data": {
      "text/plain": [
       "'deger'"
      ]
     },
     "execution_count": 4,
     "metadata": {},
     "output_type": "execute_result"
    }
   ],
   "source": [
    "sozluk[\"anahtar1\"]"
   ]
  },
  {
   "cell_type": "code",
   "execution_count": 5,
   "metadata": {},
   "outputs": [
    {
     "data": {
      "text/plain": [
       "{'elma': 52, 'armut': 72, 'muz': 105}"
      ]
     },
     "execution_count": 5,
     "metadata": {},
     "output_type": "execute_result"
    }
   ],
   "source": [
    "kaloriler = {\"elma\": 52, \"armut\": 72, \"muz\": 105}\n",
    "kaloriler"
   ]
  },
  {
   "cell_type": "code",
   "execution_count": 8,
   "metadata": {},
   "outputs": [
    {
     "data": {
      "text/plain": [
       "{'elma': 100, 'armut': 72, 'muz': 105}"
      ]
     },
     "execution_count": 8,
     "metadata": {},
     "output_type": "execute_result"
    }
   ],
   "source": [
    "kaloriler[\"elma\"] =100 # elmaya ait kaloriyi degistirdik\n",
    "kaloriler"
   ]
  },
  {
   "cell_type": "code",
   "execution_count": 14,
   "metadata": {},
   "outputs": [
    {
     "data": {
      "text/plain": [
       "'yusuf'"
      ]
     },
     "execution_count": 14,
     "metadata": {},
     "output_type": "execute_result"
    }
   ],
   "source": [
    "sozluk2={1:\"yusuf\", 2:\"habibe\", 3:\"gülseren\"}\n",
    "sozluk2[1] "
   ]
  },
  {
   "cell_type": "code",
   "execution_count": 15,
   "metadata": {},
   "outputs": [
    {
     "data": {
      "text/plain": [
       "dict_keys(['anahtar1', 'anahtar2', 'anahtar3'])"
      ]
     },
     "execution_count": 15,
     "metadata": {},
     "output_type": "execute_result"
    }
   ],
   "source": [
    "fantastikSozluk = {\"anahtar1\": 100, \"anahtar2\": [10,20,30,7.5,\"ysf\"], \"anahtar3\": {\"anahtar4\": 1000, \"anahtar5\": 2000}}\n",
    "fantastikSozluk.keys()"
   ]
  },
  {
   "cell_type": "code",
   "execution_count": 16,
   "metadata": {},
   "outputs": [
    {
     "data": {
      "text/plain": [
       "dict_values([100, [10, 20, 30, 7.5, 'ysf'], {'anahtar4': 1000, 'anahtar5': 2000}])"
      ]
     },
     "execution_count": 16,
     "metadata": {},
     "output_type": "execute_result"
    }
   ],
   "source": [
    "fantastikSozluk.values()"
   ]
  },
  {
   "cell_type": "code",
   "execution_count": 18,
   "metadata": {},
   "outputs": [
    {
     "data": {
      "text/plain": [
       "'ysf'"
      ]
     },
     "execution_count": 18,
     "metadata": {},
     "output_type": "execute_result"
    }
   ],
   "source": [
    "deneme = fantastikSozluk[\"anahtar2\"][-1]\n",
    "deneme"
   ]
  },
  {
   "cell_type": "code",
   "execution_count": 19,
   "metadata": {},
   "outputs": [
    {
     "data": {
      "text/plain": [
       "2000"
      ]
     },
     "execution_count": 19,
     "metadata": {},
     "output_type": "execute_result"
    }
   ],
   "source": [
    "fantastikSozluk[\"anahtar3\"][\"anahtar5\"]"
   ]
  }
 ],
 "metadata": {
  "kernelspec": {
   "display_name": "Python 3",
   "language": "python",
   "name": "python3"
  },
  "language_info": {
   "codemirror_mode": {
    "name": "ipython",
    "version": 3
   },
   "file_extension": ".py",
   "mimetype": "text/x-python",
   "name": "python",
   "nbconvert_exporter": "python",
   "pygments_lexer": "ipython3",
   "version": "3.9.12"
  }
 },
 "nbformat": 4,
 "nbformat_minor": 2
}
