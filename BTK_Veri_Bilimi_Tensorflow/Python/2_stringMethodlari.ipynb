{
 "cells": [
  {
   "cell_type": "markdown",
   "metadata": {},
   "source": [
    "### Python String Metotları ve Açıklamaları\n",
    "\n",
    "Aşağıda Python'da **string** (`str`) tipine ait en sık kullanılan metodlar ve yaptıkları işler verilmiştir. Her satırda metodun adı, yaptığı iş, örnek kullanım ve dönüş değeri (çıktı) bulunmaktadır.\n",
    "\n",
    "| Metot | Açıklama | Örnek Kullanım | Dönüş Değeri / Çıktı |\n",
    "|--------|------------------------------|------------------------|----------------------|\n",
    "| **`upper()`** | Tüm karakterleri büyük harfe çevirir. | `\"merhaba\".upper()` | `\"MERHABA\"` |\n",
    "| **`lower()`** | Tüm karakterleri küçük harfe çevirir. | `\"HELLO\".lower()` | `\"hello\"` |\n",
    "| **`capitalize()`** | İlk harfi büyük, geri kalanları küçük yapar. | `\"python\".capitalize()` | `\"Python\"` |\n",
    "| **`title()`** | Her kelimenin ilk harfini büyük yapar. | `\"merhaba dünya\".title()` | `\"Merhaba Dünya\"` |\n",
    "| **`strip()`** | Başta ve sondaki boşlukları veya belirtilen karakterleri kaldırır. | `\"  hello  \".strip()` | `\"hello\"` |\n",
    "| **`lstrip()`** | Soldaki boşlukları veya belirtilen karakterleri kaldırır. | `\"  hello  \".lstrip()` | `\"hello  \"` |\n",
    "| **`rstrip()`** | Sağdaki boşlukları veya belirtilen karakterleri kaldırır. | `\"  hello  \".rstrip()` | `\"  hello\"` |\n",
    "| **`split(sep)`** | Metni belirtilen ayırıcıya (`sep`) göre böler. | `\"a,b,c\".split(\",\")` | `[\"a\", \"b\", \"c\"]` |\n",
    "| **`join(iterable)`** | Liste, tuple vb. öğeleri birleştirerek string yapar. | `\" \".join([\"a\",\"b\",\"c\"])` | `\"a b c\"` |\n",
    "| **`replace(old, new)`** | Eski karakterleri yenileriyle değiştirir. | `\"Hello World\".replace(\"World\",\"Python\")` | `\"Hello Python\"` |\n",
    "| **`find(sub)`** | Alt metnin (`sub`) ilk bulunduğu index'i döndürür, yoksa `-1`. | `\"Hello\".find(\"l\")` | `2` |\n",
    "| **`startswith(sub)`** | Metin belirtilen alt metinle başlıyor mu? | `\"Hello\".startswith(\"He\")` | `True` |\n",
    "| **`endswith(sub)`** | Metin belirtilen alt metinle bitiyor mu? | `\"Hello\".endswith(\"lo\")` | `True` |\n",
    "| **`count(sub)`** | Belirtilen alt metnin kaç kez geçtiğini döndürür. | `\"banana\".count(\"a\")` | `3` |\n",
    "| **`isalnum()`** | Tüm karakterlerin harf veya rakam olup olmadığını kontrol eder. | `\"abc123\".isalnum()` | `True` |\n",
    "| **`isalpha()`** | Tüm karakterlerin harf olup olmadığını kontrol eder. | `\"abc\".isalpha()` | `True` |\n",
    "| **`isdigit()`** | Tüm karakterlerin rakam olup olmadığını kontrol eder. | `\"123\".isdigit()` | `True` |\n",
    "| **`isspace()`** | Tüm karakterlerin boşluk olup olmadığını kontrol eder. | `\"   \".isspace()` | `True` |\n",
    "| **`swapcase()`** | Büyük harfleri küçüğe, küçük harfleri büyüğe çevirir. | `\"MerHABA\".swapcase()` | `\"mERhaba\"` |\n",
    "| **`center(width)`** | Metni belirtilen genişlikte ortalar. | `\"hi\".center(5)` | `\"  hi \"` |\n",
    "| **`ljust(width)`** | Metni sola yaslar. | `\"hi\".ljust(5)` | `\"hi   \"` |\n",
    "| **`rjust(width)`** | Metni sağa yaslar. | `\"hi\".rjust(5)` | `\"   hi\"` |\n",
    "| **`zfill(width)`** | Metni belirtilen uzunluğa tamamlamak için `0` ekler. | `\"42\".zfill(5)` | `\"00042\"` |\n",
    "| **`partition(sep)`** | Verilen ayırıcıya göre 3 parçaya böler. | `\"Hello World\".partition(\" \")` | `(\"Hello\", \" \", \"World\")` |\n",
    "| **`splitlines()`** | Metni satır sonlarına göre böler. | `\"Hello\\nWorld\".splitlines()` | `[\"Hello\", \"World\"]` |\n",
    "\n",
    "Bu metodları kullanarak Python'da metin işlemlerini kolayca gerçekleştirebilirsiniz. **Unutmayın:** `str` metodları **orijinal stringi değiştirmez**, sadece yeni bir string döndürür.\n",
    "\n"
   ]
  },
  {
   "cell_type": "markdown",
   "metadata": {},
   "source": [
    "### CAPITALIZE"
   ]
  },
  {
   "cell_type": "code",
   "execution_count": 2,
   "metadata": {},
   "outputs": [
    {
     "data": {
      "text/plain": [
       "'Yusuf'"
      ]
     },
     "execution_count": 2,
     "metadata": {},
     "output_type": "execute_result"
    }
   ],
   "source": [
    "benimIsmim = \"yusuf\"\n",
    "benimIsmim.capitalize()#ilk harfi büyük yapar"
   ]
  },
  {
   "cell_type": "code",
   "execution_count": 3,
   "metadata": {},
   "outputs": [
    {
     "data": {
      "text/plain": [
       "'yusuf'"
      ]
     },
     "execution_count": 3,
     "metadata": {},
     "output_type": "execute_result"
    }
   ],
   "source": [
    "benimIsmim # kalıcı bir değişiklik yapmak istersek yeni bir değişkene atamamız gerekir"
   ]
  },
  {
   "cell_type": "code",
   "execution_count": 6,
   "metadata": {},
   "outputs": [
    {
     "name": "stdout",
     "output_type": "stream",
     "text": [
      "Yusuf yusuf\n"
     ]
    }
   ],
   "source": [
    "yeniDegisken = benimIsmim.capitalize()\n",
    "print(yeniDegisken,benimIsmim)"
   ]
  },
  {
   "cell_type": "markdown",
   "metadata": {},
   "source": [
    "### SPLIT"
   ]
  },
  {
   "cell_type": "code",
   "execution_count": 7,
   "metadata": {},
   "outputs": [
    {
     "data": {
      "text/plain": [
       "['yusuf', 'yağcı']"
      ]
     },
     "execution_count": 7,
     "metadata": {},
     "output_type": "execute_result"
    }
   ],
   "source": [
    "tamAd =\"yusuf yağcı\"\n",
    "tamAd.split()#boşluklara göre ayırır"
   ]
  }
 ],
 "metadata": {
  "kernelspec": {
   "display_name": "Python 3",
   "language": "python",
   "name": "python3"
  },
  "language_info": {
   "codemirror_mode": {
    "name": "ipython",
    "version": 3
   },
   "file_extension": ".py",
   "mimetype": "text/x-python",
   "name": "python",
   "nbconvert_exporter": "python",
   "pygments_lexer": "ipython3",
   "version": "3.9.12"
  }
 },
 "nbformat": 4,
 "nbformat_minor": 2
}
