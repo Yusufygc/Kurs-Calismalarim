{
 "cells": [
  {
   "cell_type": "code",
   "execution_count": 1,
   "metadata": {},
   "outputs": [],
   "source": [
    "import numpy as np\n",
    "import pandas as pd"
   ]
  },
  {
   "cell_type": "code",
   "execution_count": 2,
   "metadata": {},
   "outputs": [
    {
     "name": "stdout",
     "output_type": "stream",
     "text": [
      "yusuf     23\n",
      "habibe    22\n",
      "zeynep    21\n",
      "dtype: int64\n"
     ]
    }
   ],
   "source": [
    "benimSozlukum={\"yusuf\":23,\"habibe\":22,\"zeynep\":21}\n",
    "print(pd.Series(benimSozlukum))"
   ]
  },
  {
   "cell_type": "code",
   "execution_count": 5,
   "metadata": {},
   "outputs": [
    {
     "name": "stdout",
     "output_type": "stream",
     "text": [
      "0    10\n",
      "1    20\n",
      "2    30\n",
      "dtype: int64\n"
     ]
    }
   ],
   "source": [
    "numpyDizim = np.array([10,20,30])\n",
    "print(pd.Series(numpyDizim))"
   ]
  },
  {
   "cell_type": "code",
   "execution_count": null,
   "metadata": {},
   "outputs": [
    {
     "data": {
      "text/plain": [
       "yusuf     10\n",
       "habibe    20\n",
       "zeynep    30\n",
       "dtype: int64"
      ]
     },
     "execution_count": 6,
     "metadata": {},
     "output_type": "execute_result"
    }
   ],
   "source": [
    "pd.Series(numpyDizim,benimSozlukum) # indexleri belirlerdik ama ters yaptık"
   ]
  },
  {
   "cell_type": "code",
   "execution_count": 10,
   "metadata": {},
   "outputs": [
    {
     "data": {
      "text/plain": [
       "10     yusuf\n",
       "20    habibe\n",
       "30    zeynep\n",
       "dtype: object"
      ]
     },
     "execution_count": 10,
     "metadata": {},
     "output_type": "execute_result"
    }
   ],
   "source": [
    "benimSozlukum=[\"yusuf\",\"habibe\",\"zeynep\"]\n",
    "pd.Series(benimSozlukum,numpyDizim)"
   ]
  },
  {
   "cell_type": "code",
   "execution_count": 13,
   "metadata": {},
   "outputs": [
    {
     "name": "stdout",
     "output_type": "stream",
     "text": [
      "yusuf     10\n",
      "habibe    20\n",
      "zeynep    30\n",
      "dtype: int64\n"
     ]
    }
   ],
   "source": [
    "yarismaSonucu = pd.Series([10,20,30],index=[\"yusuf\",\"habibe\",\"zeynep\"])\n",
    "print(pd.Series(yarismaSonucu))"
   ]
  },
  {
   "cell_type": "code",
   "execution_count": 17,
   "metadata": {},
   "outputs": [
    {
     "name": "stdout",
     "output_type": "stream",
     "text": [
      "10\n"
     ]
    }
   ],
   "source": [
    "print(yarismaSonucu[\"yusuf\"])"
   ]
  },
  {
   "cell_type": "code",
   "execution_count": 14,
   "metadata": {},
   "outputs": [
    {
     "name": "stdout",
     "output_type": "stream",
     "text": [
      "yusuf     11\n",
      "habibe    26\n",
      "zeynep    33\n",
      "dtype: int64\n"
     ]
    }
   ],
   "source": [
    "yarismaSonucu1 = pd.Series([1,6,3],index=[\"yusuf\",\"habibe\",\"zeynep\"])\n",
    "print(yarismaSonucu + yarismaSonucu1)  # İki Series'i topladık"
   ]
  },
  {
   "cell_type": "code",
   "execution_count": 24,
   "metadata": {},
   "outputs": [
    {
     "name": "stdout",
     "output_type": "stream",
     "text": [
      "11 \n",
      " yusuf     11\n",
      "habibe    26\n",
      "zeynep    33\n",
      "dtype: int64\n"
     ]
    }
   ],
   "source": [
    "toplamSonucu = yarismaSonucu + yarismaSonucu1\n",
    "print(toplamSonucu[\"yusuf\"], \"\\n\", toplamSonucu)  # yusuf'un toplam sonucunu yazdırdık"
   ]
  },
  {
   "cell_type": "code",
   "execution_count": 25,
   "metadata": {},
   "outputs": [],
   "source": [
    "farkliSeries = pd.Series([20,30,40,50],[\"a\",\"b\",\"c\",\"d\"])"
   ]
  },
  {
   "cell_type": "code",
   "execution_count": 27,
   "metadata": {},
   "outputs": [
    {
     "name": "stdout",
     "output_type": "stream",
     "text": [
      "a    30.0\n",
      "b     NaN\n",
      "c    45.0\n",
      "d     NaN\n",
      "f     NaN\n",
      "g     NaN\n",
      "dtype: float64\n"
     ]
    }
   ],
   "source": [
    "farkliSeries2 = pd.Series([10,5,3,1],[\"a\",\"c\",\"f\",\"g\"])\n",
    "print(farkliSeries + farkliSeries2)  # Ortak index'ler için toplama yapıldı, diğerleri NaN oldu"
   ]
  }
 ],
 "metadata": {
  "kernelspec": {
   "display_name": "Python 3",
   "language": "python",
   "name": "python3"
  },
  "language_info": {
   "codemirror_mode": {
    "name": "ipython",
    "version": 3
   },
   "file_extension": ".py",
   "mimetype": "text/x-python",
   "name": "python",
   "nbconvert_exporter": "python",
   "pygments_lexer": "ipython3",
   "version": "3.13.2"
  }
 },
 "nbformat": 4,
 "nbformat_minor": 2
}
