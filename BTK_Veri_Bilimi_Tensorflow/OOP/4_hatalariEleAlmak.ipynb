{
 "cells": [
  {
   "cell_type": "markdown",
   "metadata": {},
   "source": [
    "### try & except & else & finally"
   ]
  },
  {
   "cell_type": "code",
   "execution_count": 2,
   "metadata": {},
   "outputs": [
    {
     "name": "stdout",
     "output_type": "stream",
     "text": [
      "Lütfen bir sayı giriniz.\n",
      "Her zaman çalışırım.(finally :))\n",
      "Lütfen bir sayı giriniz.\n",
      "Her zaman çalışırım.(finally :))\n",
      "Lütfen bir sayı giriniz.\n",
      "Her zaman çalışırım.(finally :))\n",
      "Teşekkürler.\n",
      "Her zaman çalışırım.(finally :))\n"
     ]
    }
   ],
   "source": [
    "while True:\n",
    "    try:\n",
    "        benimInt = int(input(\"Lütfen bir sayı giriniz: \"))\n",
    "    except:\n",
    "        print(\"Lütfen bir sayı giriniz.\")\n",
    "        continue\n",
    "    else:\n",
    "        print(\"Teşekkürler.\")\n",
    "        break\n",
    "    finally:\n",
    "        print(\"Her zaman çalışırım.(finally :))\")"
   ]
  }
 ],
 "metadata": {
  "kernelspec": {
   "display_name": "Python 3",
   "language": "python",
   "name": "python3"
  },
  "language_info": {
   "codemirror_mode": {
    "name": "ipython",
    "version": 3
   },
   "file_extension": ".py",
   "mimetype": "text/x-python",
   "name": "python",
   "nbconvert_exporter": "python",
   "pygments_lexer": "ipython3",
   "version": "3.9.12"
  }
 },
 "nbformat": 4,
 "nbformat_minor": 2
}
