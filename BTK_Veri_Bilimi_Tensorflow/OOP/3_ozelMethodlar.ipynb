{
 "cells": [
  {
   "cell_type": "markdown",
   "metadata": {},
   "source": [
    "## Çok çeşitli özel methodlar vardır ihtiyaca göre araştırılıp bulunup kullanılabilir"
   ]
  },
  {
   "cell_type": "code",
   "execution_count": 1,
   "metadata": {},
   "outputs": [],
   "source": [
    "class Meyve:\n",
    "    def __init__(self, ad, kalori):\n",
    "        self.ad = ad\n",
    "        self.kalori = kalori\n",
    "    def __str__(self):\n",
    "        return \"{} adlı meyve {} kaloriye sahiptir.\".format(self.ad, self.kalori)\n",
    "    \n",
    "    def __len__(self):\n",
    "        return self.kalori"
   ]
  },
  {
   "cell_type": "code",
   "execution_count": 2,
   "metadata": {},
   "outputs": [
    {
     "name": "stdout",
     "output_type": "stream",
     "text": [
      "Elma adlı meyve 52 kaloriye sahiptir.\n"
     ]
    }
   ],
   "source": [
    "elma = Meyve(\"Elma\", 52)\n",
    "print(elma)"
   ]
  },
  {
   "cell_type": "code",
   "execution_count": 3,
   "metadata": {},
   "outputs": [
    {
     "data": {
      "text/plain": [
       "52"
      ]
     },
     "execution_count": 3,
     "metadata": {},
     "output_type": "execute_result"
    }
   ],
   "source": [
    "len(elma) # 52"
   ]
  }
 ],
 "metadata": {
  "kernelspec": {
   "display_name": "Python 3",
   "language": "python",
   "name": "python3"
  },
  "language_info": {
   "codemirror_mode": {
    "name": "ipython",
    "version": 3
   },
   "file_extension": ".py",
   "mimetype": "text/x-python",
   "name": "python",
   "nbconvert_exporter": "python",
   "pygments_lexer": "ipython3",
   "version": "3.9.12"
  }
 },
 "nbformat": 4,
 "nbformat_minor": 2
}
