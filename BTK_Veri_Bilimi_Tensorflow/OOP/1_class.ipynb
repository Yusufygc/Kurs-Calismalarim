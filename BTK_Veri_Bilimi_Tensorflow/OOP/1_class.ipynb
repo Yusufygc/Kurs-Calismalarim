{
 "cells": [
  {
   "cell_type": "code",
   "execution_count": 8,
   "metadata": {},
   "outputs": [],
   "source": [
    "class SuperKahraman:\n",
    "    def __init__(self,isim,yetenek,superGuc): # yapıcı fonksiyon (constructor)\n",
    "        self.isim=isim # sağdakiler argümanlar, soldakiler ise özellikler\n",
    "        self.yetenek=yetenek\n",
    "        self.superGuc=superGuc\n",
    "        \n",
    "    def kostum_giydir(self):\n",
    "        print(\"Kostüm giydiriliyor...\")\n",
    "\n",
    "    def super_guc_goster(self):\n",
    "        print(f\"Super güç :{self.superGuc}\")# self kullanmazsak erişemeyiz"
   ]
  },
  {
   "cell_type": "markdown",
   "metadata": {},
   "source": [
    "\n",
    "### Özellik\t            Açıklama\n",
    "* self nedir?\t        Sınıf içindeki metotlarda o anki nesneyi (instance) temsil eder.\n",
    "* Neden kullanılır?\tNesnenin özelliklerine ve metotlarına erişim sağlamak için.\n",
    "* Eğer kullanılmazsa?\tMetotlar nesneye erişemez, hata alınır.\n",
    "* Standart isim mi?\tself yerine başka bir isim kullanılabilir ama self bir Python konvansiyonudur."
   ]
  },
  {
   "cell_type": "code",
   "execution_count": 10,
   "metadata": {},
   "outputs": [
    {
     "data": {
      "text/plain": [
       "<__main__.SuperKahraman at 0x2ac2e175ee0>"
      ]
     },
     "execution_count": 10,
     "metadata": {},
     "output_type": "execute_result"
    }
   ],
   "source": [
    "super = SuperKahraman(\"Süperman\",\"Uçabiliyor\",\"Lazer göz\")\n",
    "super"
   ]
  },
  {
   "cell_type": "code",
   "execution_count": 11,
   "metadata": {},
   "outputs": [
    {
     "data": {
      "text/plain": [
       "['Süperman', 'Uçabiliyor']"
      ]
     },
     "execution_count": 11,
     "metadata": {},
     "output_type": "execute_result"
    }
   ],
   "source": [
    "liste=[super.isim,super.yetenek]\n",
    "liste"
   ]
  },
  {
   "cell_type": "code",
   "execution_count": 12,
   "metadata": {},
   "outputs": [
    {
     "name": "stdout",
     "output_type": "stream",
     "text": [
      "Kostüm giydiriliyor...\n"
     ]
    }
   ],
   "source": [
    "super.kostum_giydir()"
   ]
  },
  {
   "cell_type": "code",
   "execution_count": 13,
   "metadata": {},
   "outputs": [
    {
     "name": "stdout",
     "output_type": "stream",
     "text": [
      "Super güç :Lazer göz\n"
     ]
    }
   ],
   "source": [
    "super.super_guc_goster()"
   ]
  },
  {
   "cell_type": "code",
   "execution_count": null,
   "metadata": {},
   "outputs": [],
   "source": []
  }
 ],
 "metadata": {
  "kernelspec": {
   "display_name": "Python 3",
   "language": "python",
   "name": "python3"
  },
  "language_info": {
   "codemirror_mode": {
    "name": "ipython",
    "version": 3
   },
   "file_extension": ".py",
   "mimetype": "text/x-python",
   "name": "python",
   "nbconvert_exporter": "python",
   "pygments_lexer": "ipython3",
   "version": "3.9.12"
  }
 },
 "nbformat": 4,
 "nbformat_minor": 2
}
