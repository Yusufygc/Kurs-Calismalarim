{
 "cells": [
  {
   "cell_type": "code",
   "execution_count": 2,
   "metadata": {},
   "outputs": [],
   "source": [
    "class SuperKahraman:\n",
    "    def __init__(self,isim,yetenek): # yapıcı fonksiyon (constructor)\n",
    "        self.isim=isim # sağdakiler argümanlar, soldakiler ise özellikler\n",
    "        self.yetenek=yetenek"
   ]
  },
  {
   "cell_type": "markdown",
   "metadata": {},
   "source": [
    "\n",
    "### Özellik\t            Açıklama\n",
    "* self nedir?\t        Sınıf içindeki metotlarda o anki nesneyi (instance) temsil eder.\n",
    "* Neden kullanılır?\tNesnenin özelliklerine ve metotlarına erişim sağlamak için.\n",
    "* Eğer kullanılmazsa?\tMetotlar nesneye erişemez, hata alınır.\n",
    "* Standart isim mi?\tself yerine başka bir isim kullanılabilir ama self bir Python konvansiyonudur."
   ]
  },
  {
   "cell_type": "code",
   "execution_count": 4,
   "metadata": {},
   "outputs": [
    {
     "data": {
      "text/plain": [
       "<__main__.SuperKahraman at 0x2ac2cf80f70>"
      ]
     },
     "execution_count": 4,
     "metadata": {},
     "output_type": "execute_result"
    }
   ],
   "source": [
    "super = SuperKahraman(\"Süperman\",\"Uçabiliyor\")\n",
    "super"
   ]
  },
  {
   "cell_type": "code",
   "execution_count": 6,
   "metadata": {},
   "outputs": [
    {
     "data": {
      "text/plain": [
       "['Süperman', 'Uçabiliyor']"
      ]
     },
     "execution_count": 6,
     "metadata": {},
     "output_type": "execute_result"
    }
   ],
   "source": [
    "liste=[super.isim,super.yetenek]\n",
    "liste"
   ]
  },
  {
   "cell_type": "code",
   "execution_count": null,
   "metadata": {},
   "outputs": [],
   "source": []
  },
  {
   "cell_type": "code",
   "execution_count": null,
   "metadata": {},
   "outputs": [],
   "source": []
  }
 ],
 "metadata": {
  "kernelspec": {
   "display_name": "Python 3",
   "language": "python",
   "name": "python3"
  },
  "language_info": {
   "codemirror_mode": {
    "name": "ipython",
    "version": 3
   },
   "file_extension": ".py",
   "mimetype": "text/x-python",
   "name": "python",
   "nbconvert_exporter": "python",
   "pygments_lexer": "ipython3",
   "version": "3.9.12"
  }
 },
 "nbformat": 4,
 "nbformat_minor": 2
}
