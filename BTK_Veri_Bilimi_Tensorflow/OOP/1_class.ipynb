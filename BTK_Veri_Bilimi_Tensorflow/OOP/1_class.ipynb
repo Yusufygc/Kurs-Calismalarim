{
 "cells": [
  {
   "cell_type": "code",
   "execution_count": 8,
   "metadata": {},
   "outputs": [],
   "source": [
    "class SuperKahraman:\n",
    "    def __init__(self,isim,yetenek,superGuc): # yapıcı fonksiyon (constructor)\n",
    "        self.isim=isim # sağdakiler argümanlar, soldakiler ise özellikler\n",
    "        self.yetenek=yetenek\n",
    "        self.superGuc=superGuc\n",
    "        \n",
    "    def kostum_giydir(self):\n",
    "        print(\"Kostüm giydiriliyor...\")\n",
    "\n",
    "    def super_guc_goster(self):\n",
    "        print(f\"Super güç :{self.superGuc}\")# self kullanmazsak erişemeyiz"
   ]
  },
  {
   "cell_type": "markdown",
   "metadata": {},
   "source": [
    "\n",
    "### Özellik\t            Açıklama\n",
    "* self nedir?\t        Sınıf içindeki metotlarda o anki nesneyi (instance) temsil eder.\n",
    "* Neden kullanılır?\tNesnenin özelliklerine ve metotlarına erişim sağlamak için.\n",
    "* Eğer kullanılmazsa?\tMetotlar nesneye erişemez, hata alınır.\n",
    "* Standart isim mi?\tself yerine başka bir isim kullanılabilir ama self bir Python konvansiyonudur."
   ]
  },
  {
   "cell_type": "code",
   "execution_count": 10,
   "metadata": {},
   "outputs": [
    {
     "data": {
      "text/plain": [
       "<__main__.SuperKahraman at 0x2ac2e175ee0>"
      ]
     },
     "execution_count": 10,
     "metadata": {},
     "output_type": "execute_result"
    }
   ],
   "source": [
    "super = SuperKahraman(\"Süperman\",\"Uçabiliyor\",\"Lazer göz\")\n",
    "super"
   ]
  },
  {
   "cell_type": "code",
   "execution_count": 11,
   "metadata": {},
   "outputs": [
    {
     "data": {
      "text/plain": [
       "['Süperman', 'Uçabiliyor']"
      ]
     },
     "execution_count": 11,
     "metadata": {},
     "output_type": "execute_result"
    }
   ],
   "source": [
    "liste=[super.isim,super.yetenek]\n",
    "liste"
   ]
  },
  {
   "cell_type": "code",
   "execution_count": 12,
   "metadata": {},
   "outputs": [
    {
     "name": "stdout",
     "output_type": "stream",
     "text": [
      "Kostüm giydiriliyor...\n"
     ]
    }
   ],
   "source": [
    "super.kostum_giydir()"
   ]
  },
  {
   "cell_type": "code",
   "execution_count": 13,
   "metadata": {},
   "outputs": [
    {
     "name": "stdout",
     "output_type": "stream",
     "text": [
      "Super güç :Lazer göz\n"
     ]
    }
   ],
   "source": [
    "super.super_guc_goster()"
   ]
  },
  {
   "cell_type": "markdown",
   "metadata": {},
   "source": [
    "### DEFAULT DEĞER"
   ]
  },
  {
   "cell_type": "code",
   "execution_count": 44,
   "metadata": {},
   "outputs": [],
   "source": [
    "class Kopke:\n",
    "    def __init__(self,yas,renk=\"krem\",fiyat=50,isim=\"karabaş\"):# default değerler en sona yazılır \n",
    "        self.isim=isim\n",
    "        self.renk=renk\n",
    "        self.fiyat=fiyat\n",
    "        self.yas=yas\n",
    "\n",
    "    def bilgileri_goster(self):\n",
    "        print(f\"İsim:{self.isim} Renk:{self.renk} Fiyat:{self.fiyat} Yaş:{self.yas}\")\n",
    "\n",
    "    def yas_hesapla(self):\n",
    "        yılCarpanı=7\n",
    "        print(\"Köpeğin insan yaşına göre yaşı:\",self.yas*yılCarpanı)\n",
    "        #return self.yas*7 # köpek yaşını insan yaşına çevirme"
   ]
  },
  {
   "cell_type": "code",
   "execution_count": 45,
   "metadata": {},
   "outputs": [
    {
     "name": "stdout",
     "output_type": "stream",
     "text": [
      "İsim:pamuk Renk:beyaz Fiyat:100 Yaş:3\n"
     ]
    }
   ],
   "source": [
    "enSonKopek=Kopke(3,\"beyaz\",100,\"pamuk\")\n",
    "enSonKopek.bilgileri_goster()"
   ]
  },
  {
   "cell_type": "code",
   "execution_count": 46,
   "metadata": {},
   "outputs": [
    {
     "name": "stdout",
     "output_type": "stream",
     "text": [
      "Köpeğin insan yaşına göre yaşı: 21\n"
     ]
    }
   ],
   "source": [
    "enSonKopek.yas_hesapla()"
   ]
  },
  {
   "cell_type": "code",
   "execution_count": 22,
   "metadata": {},
   "outputs": [],
   "source": [
    "kopus = Kopke()"
   ]
  },
  {
   "cell_type": "code",
   "execution_count": 18,
   "metadata": {},
   "outputs": [
    {
     "data": {
      "text/plain": [
       "'karabaş'"
      ]
     },
     "execution_count": 18,
     "metadata": {},
     "output_type": "execute_result"
    }
   ],
   "source": [
    "kopus.isim"
   ]
  },
  {
   "cell_type": "code",
   "execution_count": 20,
   "metadata": {},
   "outputs": [
    {
     "data": {
      "text/plain": [
       "'Fırtına'"
      ]
     },
     "execution_count": 20,
     "metadata": {},
     "output_type": "execute_result"
    }
   ],
   "source": [
    "kopus.isim=\"Fırtına\" #biz değer verirsek bizim verdiğimiz değeri alır ama vermezsek default değeri alır\n",
    "kopus.isim"
   ]
  },
  {
   "cell_type": "code",
   "execution_count": 21,
   "metadata": {},
   "outputs": [
    {
     "name": "stdout",
     "output_type": "stream",
     "text": [
      "İsim:Fırtına Renk:krem Fiyat:50\n"
     ]
    }
   ],
   "source": [
    "kopus.bilgileri_goster()"
   ]
  },
  {
   "cell_type": "code",
   "execution_count": 23,
   "metadata": {},
   "outputs": [
    {
     "name": "stdout",
     "output_type": "stream",
     "text": [
      "İsim:Çomar Renk:beyaz Fiyat:100\n"
     ]
    }
   ],
   "source": [
    "yeniKopek=Kopke(fiyat=100,isim=\"Çomar\",renk=\"beyaz\")\n",
    "yeniKopek.bilgileri_goster()  "
   ]
  }
 ],
 "metadata": {
  "kernelspec": {
   "display_name": "Python 3",
   "language": "python",
   "name": "python3"
  },
  "language_info": {
   "codemirror_mode": {
    "name": "ipython",
    "version": 3
   },
   "file_extension": ".py",
   "mimetype": "text/x-python",
   "name": "python",
   "nbconvert_exporter": "python",
   "pygments_lexer": "ipython3",
   "version": "3.9.12"
  }
 },
 "nbformat": 4,
 "nbformat_minor": 2
}
