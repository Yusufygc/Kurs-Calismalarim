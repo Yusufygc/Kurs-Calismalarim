{
 "cells": [
  {
   "cell_type": "markdown",
   "metadata": {},
   "source": [
    "* Kalıtım (Inheritance), bir sınıfın başka bir sınıfın özelliklerini ve metotlarını miras almasını sağlar, kod tekrarını azaltır.\n",
    "\n",
    "* Temel (Ana) Sınıf (Parent / Base Class) ve Alt Sınıf (Child / Derived Class) kavramları vardır; alt sınıf, üst sınıftan türetilir.\n",
    "\n",
    "* Alt sınıf, üst sınıfın tüm özelliklerine sahip olur ve ayrıca kendi özelliklerini/metotlarını ekleyebilir veya üst sınıfın metotlarını ezebilir (override).\n",
    "\n",
    "* super() fonksiyonu, üst sınıfın metodlarını çağırmak için kullanılır.\n",
    "\n",
    "* Çoklu kalıtım mümkündür; bir sınıf birden fazla sınıftan miras alabilir, ancak karmaşıklığı artırabilir."
   ]
  },
  {
   "cell_type": "code",
   "execution_count": 1,
   "metadata": {},
   "outputs": [],
   "source": [
    "class Hayvan:\n",
    "    def __init__(self):\n",
    "        print(\"Hayvan sınıfının __init__ metodu çalıştı.\")\n",
    "    def method(self):\n",
    "        print(\"Hayvan sınıfının method metodu çalıştı.\")\n",
    "    def method2(self):\n",
    "        print(\"Hayvan sınıfının method2 metodu çalıştı.\")"
   ]
  },
  {
   "cell_type": "code",
   "execution_count": 2,
   "metadata": {},
   "outputs": [
    {
     "name": "stdout",
     "output_type": "stream",
     "text": [
      "Hayvan sınıfının __init__ metodu çalıştı.\n"
     ]
    }
   ],
   "source": [
    "benim_hayvan = Hayvan()"
   ]
  },
  {
   "cell_type": "code",
   "execution_count": 3,
   "metadata": {},
   "outputs": [
    {
     "name": "stdout",
     "output_type": "stream",
     "text": [
      "Hayvan sınıfının method metodu çalıştı.\n"
     ]
    }
   ],
   "source": [
    "benim_hayvan.method()"
   ]
  },
  {
   "cell_type": "code",
   "execution_count": 8,
   "metadata": {},
   "outputs": [],
   "source": [
    "class Kedi(Hayvan):\n",
    "    def __init__(self):\n",
    "        Hayvan.__init__(self)\n",
    "        print(\"Kedi sınıfının __init__ metodu çalıştı.\")\n",
    "    def miyavla(self):\n",
    "        print(\"Miyav!\")\n",
    "    # override,\n",
    "    def method(self):\n",
    "        print(\"Kedi sınıfının method metodu çalıştı.\")"
   ]
  },
  {
   "cell_type": "code",
   "execution_count": 10,
   "metadata": {},
   "outputs": [
    {
     "name": "stdout",
     "output_type": "stream",
     "text": [
      "Hayvan sınıfının __init__ metodu çalıştı.\n",
      "Kedi sınıfının __init__ metodu çalıştı.\n"
     ]
    }
   ],
   "source": [
    "benim_kedim = Kedi()"
   ]
  },
  {
   "cell_type": "code",
   "execution_count": 6,
   "metadata": {},
   "outputs": [
    {
     "name": "stdout",
     "output_type": "stream",
     "text": [
      "Hayvan sınıfının method metodu çalıştı.\n"
     ]
    }
   ],
   "source": [
    "benim_kedim.method()# kalıtım yaparak hayvan sınıfının method metodunu kullanabildik."
   ]
  },
  {
   "cell_type": "code",
   "execution_count": 7,
   "metadata": {},
   "outputs": [
    {
     "name": "stdout",
     "output_type": "stream",
     "text": [
      "Miyav!\n"
     ]
    }
   ],
   "source": [
    "benim_kedim.miyavla() # kedi sınıfının kendi metodunu kullanabildik."
   ]
  },
  {
   "cell_type": "code",
   "execution_count": 11,
   "metadata": {},
   "outputs": [
    {
     "name": "stdout",
     "output_type": "stream",
     "text": [
      "Kedi sınıfının method metodu çalıştı.\n"
     ]
    }
   ],
   "source": [
    "benim_kedim.method() # kedi sınıfının method metodunu kullanabildik. Çünkü override yaptık."
   ]
  },
  {
   "cell_type": "code",
   "execution_count": 12,
   "metadata": {},
   "outputs": [
    {
     "name": "stdout",
     "output_type": "stream",
     "text": [
      "Hayvan sınıfının method metodu çalıştı.\n"
     ]
    }
   ],
   "source": [
    "benim_hayvan.method()"
   ]
  },
  {
   "cell_type": "markdown",
   "metadata": {},
   "source": [
    "### Polymorphism\n",
    "* 1-Polymorphism (Çok Biçimlilik), aynı isimdeki metodun farklı sınıflarda farklı davranışlar gösterebilmesini sağlar.\n",
    "\n",
    "* 2-Farklı sınıflar, aynı metodu kullanabilir ama her sınıfta o metoda özgün bir uygulama (implementation) yazılabilir.\n",
    "\n",
    "* 3-Metot Ezme (Method Overriding), alt sınıfın üst sınıftaki bir metodu kendi ihtiyacına göre değiştirmesidir.\n",
    "\n",
    "* 4-Aynı metot farklı nesneler için çağrıldığında farklı sonuçlar döndürebilir, bu sayede esneklik ve genişletilebilirlik sağlanır."
   ]
  },
  {
   "cell_type": "code",
   "execution_count": 1,
   "metadata": {},
   "outputs": [
    {
     "name": "stdout",
     "output_type": "stream",
     "text": [
      "Miyav\n",
      "Hav hav\n",
      "Bilinmeyen ses\n"
     ]
    }
   ],
   "source": [
    "class Hayvan:\n",
    "    def ses_cikar(self):\n",
    "        return \"Bilinmeyen ses\"\n",
    "\n",
    "class Kedi(Hayvan):\n",
    "    def ses_cikar(self):\n",
    "        return \"Miyav\"\n",
    "\n",
    "class Kopek(Hayvan):\n",
    "    def ses_cikar(self):\n",
    "        return \"Hav hav\"\n",
    "\n",
    "# Polymorphism ile aynı metot farklı şekilde çalışıyor:\n",
    "for hayvan in [Kedi(), Kopek(), Hayvan()]:\n",
    "    print(hayvan.ses_cikar())\n"
   ]
  }
 ],
 "metadata": {
  "kernelspec": {
   "display_name": "Python 3",
   "language": "python",
   "name": "python3"
  },
  "language_info": {
   "codemirror_mode": {
    "name": "ipython",
    "version": 3
   },
   "file_extension": ".py",
   "mimetype": "text/x-python",
   "name": "python",
   "nbconvert_exporter": "python",
   "pygments_lexer": "ipython3",
   "version": "3.9.12"
  }
 },
 "nbformat": 4,
 "nbformat_minor": 2
}
